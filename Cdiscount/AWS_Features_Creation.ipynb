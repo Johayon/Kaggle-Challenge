{
 "cells": [
  {
   "cell_type": "markdown",
   "metadata": {},
   "source": [
    "##Module de Creation de Features\n",
    "- MARQ_DESC = 'Marque_in_Description' \n",
    "- MARQ_LIBE = 'Marque_in_Libelle'\n",
    "- LIBE_MARQ = 'Percent_Libe_in_Desc'\n",
    "- LEN_LIBE = 'Longueur_Libelle'\n",
    "- LEN_DESC = 'Longueur_Description'\n",
    "- INT_LIBE_DESC = 'Intersection_Libe_Desc'\n",
    "- LEN_INT = 'Longueur Intersection'\n",
    "- NOTE_PROD = 'Product_Relevance' "
   ]
  },
  {
   "cell_type": "code",
   "execution_count": 1,
   "metadata": {
    "collapsed": true
   },
   "outputs": [],
   "source": [
    "import pandas as pd\n",
    "import numpy as np\n",
    "import matplotlib.pyplot as plt\n",
    "%matplotlib inline\n",
    "import unicodedata as uni\n",
    "import re\n",
    "import time\n",
    "def normalize(string):\n",
    "    return uni.normalize('NFKD',string).encode('ascii','ignore')\n",
    "from sys import stdout"
   ]
  },
  {
   "cell_type": "code",
   "execution_count": 17,
   "metadata": {
    "collapsed": false
   },
   "outputs": [],
   "source": [
    "TRAINING_SET_PATH = 'Data/cleantrainV3.csv'\n",
    "TEST_SET_PATH = 'Data/cleantestV3.csv'\n",
    "SEPARATOR = ','\n",
    "\n",
    "INDEX_COL = 'Identifiant_Produit'\n",
    "PRICE_COL = 'prix'\n",
    "CAT_COL = 'Categorie3'\n",
    "DESC_COL = 'Description'\n",
    "LIBE_COL = 'Libelle'\n",
    "MARQ_COL = 'Marque'\n",
    "PRICE_COL = 'Prix'\n",
    "CDIS_COL = 'Produit_Cdiscount'\n",
    "\n",
    "MARQ_DESC = 'Marque_in_Description' \n",
    "MARQ_LIBE = 'Marque_in_Libelle'\n",
    "\n",
    "INT_LIBE_DESC = 'Intersection_Libe_Desc'\n",
    "\n",
    "LEN_LIBE = 'Longueur_Libelle'\n",
    "LEN_DESC = 'Longueur_Description'\n",
    "LEN_INT = 'Longueur Intersection'\n",
    "LIBE_DESC = 'Percent_Libe_in_Desc'\n",
    "\n",
    "NOTE_PROD = 'Product_Relevance' \n",
    "\n",
    "SAVE_TRAINING_PATH = 'Data/cleantrainV4.csv'\n",
    "SAVE_TEST_PATH = 'Data/cleantestV4.csv'"
   ]
  },
  {
   "cell_type": "code",
   "execution_count": 3,
   "metadata": {
    "collapsed": false
   },
   "outputs": [
    {
     "name": "stdout",
     "output_type": "stream",
     "text": [
      "loading Data\n"
     ]
    }
   ],
   "source": [
    "print \"loading Data\"\n",
    "Ctrain = pd.read_csv(TRAINING_SET_PATH, sep=SEPARATOR,index_col=INDEX_COL)\n",
    "Ctrain.fillna(' ',inplace=True)\n",
    "Ctest = pd.read_csv(TEST_SET_PATH, sep=SEPARATOR,index_col=INDEX_COL)\n",
    "Ctest.fillna(' ',inplace=True)"
   ]
  },
  {
   "cell_type": "markdown",
   "metadata": {},
   "source": [
    "Creation of MARQ DESC and LIBE DESC"
   ]
  },
  {
   "cell_type": "code",
   "execution_count": 6,
   "metadata": {
    "collapsed": false
   },
   "outputs": [
    {
     "name": "stdout",
     "output_type": "stream",
     "text": [
      "Create MARQ_DESC\n",
      "\u001b[K[--------------------------------] 100.00 \n",
      "Create MARQ_LIBE\n",
      "\u001b[K[--------------------------------] 100.00 \n"
     ]
    }
   ],
   "source": [
    "print \"Create MARQ_DESC\"\n",
    "cuts = np.r_[np.arange(0,15000001,1000000),[15786885]]\n",
    "for i in range(cuts.shape[0]-1):\n",
    "    Ctrain.ix[cuts[i]:cuts[i+1]-1,MARQ_DESC] = Ctrain.ix[cuts[i]:cuts[i+1]-1,[DESC_COL,MARQ_COL]].apply(lambda x: 1 if x[MARQ_COL] in x[DESC_COL] else 0,axis=1)\n",
    "    stdout.write(\"\\r\\x1b[K\" + \"[\" + (i+1) * \"--\" + (16-(i+1))*\"  \" + \"] %.2f\" %((i+1)*6.25))\n",
    "    stdout.flush()\n",
    "Ctest[MARQ_DESC] = Ctest[[DESC_COL,MARQ_COL]].apply(lambda x: 1 if x[MARQ_COL] in x[DESC_COL] else 0,axis=1)\n",
    "print \" \"\n",
    "\n",
    "print \"Create MARQ_LIBE\"\n",
    "for i in range(cuts.shape[0]-1):\n",
    "    Ctrain.ix[cuts[i]:cuts[i+1]-1,MARQ_LIBE] = Ctrain.ix[cuts[i]:cuts[i+1]-1,[LIBE_COL,MARQ_COL]].apply(lambda x: 1 if x[MARQ_COL] in x[LIBE_COL] else 0,axis=1)\n",
    "    stdout.write(\"\\r\\x1b[K\" + \"[\" + (i+1) * \"--\" + (16-(i+1))*\"  \" + \"] %.2f\" %((i+1)*6.25))\n",
    "    stdout.flush()\n",
    "Ctest[MARQ_LIBE] = Ctest[[LIBE_COL,MARQ_COL]].apply(lambda x: 1 if x[MARQ_COL] in x[LIBE_COL] else 0,axis=1)\n",
    "print \" \""
   ]
  },
  {
   "cell_type": "markdown",
   "metadata": {},
   "source": [
    "Some Stats on them"
   ]
  },
  {
   "cell_type": "code",
   "execution_count": 34,
   "metadata": {
    "collapsed": false
   },
   "outputs": [
    {
     "name": "stdout",
     "output_type": "stream",
     "text": [
      "nb of product with marque in Description = 32.05 %\n",
      "nb of product with marque in Libelle = 18.81 %\n",
      "nb of product with marque in Description= 17.86 %\n",
      "nb of product with marque in Libelle = 47.88 %\n"
     ]
    }
   ],
   "source": [
    "print \"nb of product with marque in Description = %.2f %%\"  % (Ctrain[MARQ_DESC].sum()*100.0/Ctrain.shape[0])\n",
    "print \"nb of product with marque in Libelle = %.2f %%\"  % (Ctrain[MARQ_LIBE].sum()*100.0/Ctrain.shape[0])\n",
    "\n",
    "print \"nb of product with marque in Description= %.2f %%\" % (Ctest[MARQ_DESC].sum()*100.0/Ctest.shape[0])\n",
    "print \"nb of product with marque in Libelle = %.2f %%\" % (Ctest[MARQ_LIBE].sum()*100.0/Ctest.shape[0])"
   ]
  },
  {
   "cell_type": "markdown",
   "metadata": {},
   "source": [
    "INT_LIBE_DESC = 'Intersection_Libe_Desc'"
   ]
  },
  {
   "cell_type": "code",
   "execution_count": 20,
   "metadata": {
    "collapsed": false
   },
   "outputs": [
    {
     "name": "stdout",
     "output_type": "stream",
     "text": [
      "Create INT_LIBE_DESC\n",
      "\u001b[K[--------------------------------] 100.00 \n"
     ]
    }
   ],
   "source": [
    "def Intersect(line):\n",
    "    libe_uni = set(line[LIBE_COL].split())\n",
    "    desc_uni = set(line[DESC_COL].split())\n",
    "    return \" \".join(list(libe_uni.intersection(desc_uni)))\n",
    "\n",
    "print \"Create INT_LIBE_DESC\"\n",
    "for i in range(cuts.shape[0]-1):\n",
    "    Ctrain.ix[cuts[i]:cuts[i+1]-1,INT_LIBE_DESC] = Ctrain.ix[cuts[i]:cuts[i+1]-1,[LIBE_COL,DESC_COL]].apply(Intersect,axis=1)\n",
    "    stdout.write(\"\\r\\x1b[K\" + \"[\" + (i+1) * \"--\" + (16-(i+1))*\"  \" + \"] %.2f\" %((i+1)*6.25))\n",
    "    stdout.flush()\n",
    "Ctest[INT_LIBE_DESC] = Ctest[[LIBE_COL,DESC_COL]].apply(Intersect,axis=1)\n",
    "print \" \""
   ]
  },
  {
   "cell_type": "markdown",
   "metadata": {},
   "source": [
    "- LEN_LIBE = 'Longueur_Libelle'\n",
    "- LEN_DESC = 'Longueur_Description'\n",
    "- LEN_INT = 'Longueur Intersection'\n",
    "- LIBE_DESC = 'Percent_Libe_in_Desc'"
   ]
  },
  {
   "cell_type": "code",
   "execution_count": 21,
   "metadata": {
    "collapsed": false
   },
   "outputs": [
    {
     "name": "stdout",
     "output_type": "stream",
     "text": [
      "Create LEN_LIBE\n",
      "\u001b[K[--------------------------------] 100.00 \n",
      "Create LEN_DESC\n",
      "\u001b[K[--------------------------------] 100.00 \n",
      "Create LEN_INT\n",
      "\u001b[K[--------------------------------] 100.00 \n"
     ]
    }
   ],
   "source": [
    "print \"Create LEN_LIBE\"\n",
    "for i in range(cuts.shape[0]-1):\n",
    "    Ctrain.ix[cuts[i]:cuts[i+1]-1,LEN_LIBE] = Ctrain.ix[cuts[i]:cuts[i+1]-1,LIBE_COL].apply(lambda x: len(x.split()))\n",
    "    stdout.write(\"\\r\\x1b[K\" + \"[\" + (i+1) * \"--\" + (16-(i+1))*\"  \" + \"] %.2f\" %((i+1)*6.25))\n",
    "    stdout.flush()\n",
    "Ctest[LEN_LIBE] = Ctest[LIBE_COL].apply(lambda x: len(x.split()))\n",
    "print \" \"\n",
    "\n",
    "print \"Create LEN_DESC\"\n",
    "for i in range(cuts.shape[0]-1):\n",
    "    Ctrain.ix[cuts[i]:cuts[i+1]-1,LEN_DESC] = Ctrain.ix[cuts[i]:cuts[i+1]-1,DESC_COL].apply(lambda x: len(x.split()))\n",
    "    stdout.write(\"\\r\\x1b[K\" + \"[\" + (i+1) * \"--\" + (16-(i+1))*\"  \" + \"] %.2f\" %((i+1)*6.25))\n",
    "    stdout.flush()\n",
    "Ctest[LEN_DESC] = Ctest[DESC_COL].apply(lambda x: len(x.split()))\n",
    "print \" \"\n",
    "\n",
    "print \"Create LEN_INT\"\n",
    "for i in range(cuts.shape[0]-1):\n",
    "    Ctrain.ix[cuts[i]:cuts[i+1]-1,LEN_INT] = Ctrain.ix[cuts[i]:cuts[i+1]-1,INT_LIBE_DESC].apply(lambda x: len(x.split()))\n",
    "    stdout.write(\"\\r\\x1b[K\" + \"[\" + (i+1) * \"--\" + (16-(i+1))*\"  \" + \"] %.2f\" %((i+1)*6.25))\n",
    "    stdout.flush()\n",
    "Ctest[LEN_INT] = Ctest[INT_LIBE_DESC].apply(lambda x: len(x.split()))\n",
    "print \" \""
   ]
  },
  {
   "cell_type": "markdown",
   "metadata": {},
   "source": [
    "Some Stats on each new indicators"
   ]
  },
  {
   "cell_type": "code",
   "execution_count": 23,
   "metadata": {
    "collapsed": false
   },
   "outputs": [
    {
     "name": "stdout",
     "output_type": "stream",
     "text": [
      "mean nb of words in Description =  13.2648045514\n",
      "mean nb of words in Libelle =  4.02836050304\n",
      "mean nb of words in Intersection =  2.98146923855\n",
      "mean nb of words in Description =  9.47699985741\n",
      "mean nb of words in Libelle =  3.67853985456\n",
      "mean nb of words in Intersection =  1.70600313703\n"
     ]
    }
   ],
   "source": [
    "print \"mean nb of words in Description = \" , Ctrain[LEN_DESC].mean()\n",
    "print \"mean nb of words in Libelle = \" , Ctrain[LEN_LIBE].mean()\n",
    "print \"mean nb of words in Intersection = \", Ctrain[LEN_INT].mean()\n",
    "\n",
    "print \"mean nb of words in Description = \" , Ctest[LEN_DESC].mean()\n",
    "print \"mean nb of words in Libelle = \" , Ctest[LEN_LIBE].mean()\n",
    "print \"mean nb of words in Intersection = \" , Ctest[LEN_INT].mean()"
   ]
  },
  {
   "cell_type": "markdown",
   "metadata": {},
   "source": [
    "- LIBE_DESC = 'Percent_Libe_in_Desc'"
   ]
  },
  {
   "cell_type": "code",
   "execution_count": 24,
   "metadata": {
    "collapsed": false
   },
   "outputs": [
    {
     "name": "stdout",
     "output_type": "stream",
     "text": [
      "Create LIBE_DESC\n",
      "\u001b[K[--------------------------------] 100.00 \n"
     ]
    }
   ],
   "source": [
    "print \"Create LIBE_DESC\"\n",
    "for i in range(cuts.shape[0]-1):\n",
    "    Ctrain.ix[cuts[i]:cuts[i+1]-1,LIBE_DESC] = Ctrain.ix[cuts[i]:cuts[i+1]-1,[LEN_LIBE,LEN_INT]].apply(lambda x: x[LEN_INT]*1.0/x[LEN_LIBE] if x[LEN_LIBE] > 0 else 0,axis=1)\n",
    "    stdout.write(\"\\r\\x1b[K\" + \"[\" + (i+1) * \"--\" + (16-(i+1))*\"  \" + \"] %.2f\" %((i+1)*6.25))\n",
    "    stdout.flush()\n",
    "Ctest[LIBE_DESC] = Ctest[[LEN_LIBE,LEN_INT]].apply(lambda x: x[LEN_INT]*1.0/x[LEN_LIBE] if x[LEN_LIBE] > 0 else 0,axis=1)\n",
    "print \" \""
   ]
  },
  {
   "cell_type": "code",
   "execution_count": 37,
   "metadata": {
    "collapsed": false
   },
   "outputs": [
    {
     "name": "stdout",
     "output_type": "stream",
     "text": [
      "percent of Libelle in Description =  70.7479846162\n"
     ]
    }
   ],
   "source": [
    "print \"percent of Libelle in Description = \" , Ctrain[LIBE_DESC].mean()*100"
   ]
  },
  {
   "cell_type": "markdown",
   "metadata": {},
   "source": [
    "Create a note by product"
   ]
  },
  {
   "cell_type": "code",
   "execution_count": 40,
   "metadata": {
    "collapsed": false
   },
   "outputs": [
    {
     "data": {
      "text/html": [
       "<div>\n",
       "<table border=\"1\" class=\"dataframe\">\n",
       "  <thead>\n",
       "    <tr style=\"text-align: right;\">\n",
       "      <th></th>\n",
       "      <th>Categorie1</th>\n",
       "      <th>Categorie2</th>\n",
       "      <th>Categorie3</th>\n",
       "      <th>Description</th>\n",
       "      <th>Libelle</th>\n",
       "      <th>Marque</th>\n",
       "      <th>Produit_Cdiscount</th>\n",
       "      <th>prix</th>\n",
       "      <th>Marque_in_Description</th>\n",
       "      <th>Marque_in_Libelle</th>\n",
       "      <th>Intersection_Libe_Desc</th>\n",
       "      <th>Longueur_Libelle</th>\n",
       "      <th>Longueur_Description</th>\n",
       "      <th>Longueur Intersection</th>\n",
       "      <th>Percent_Libe_in_Desc</th>\n",
       "    </tr>\n",
       "    <tr>\n",
       "      <th>Identifiant_Produit</th>\n",
       "      <th></th>\n",
       "      <th></th>\n",
       "      <th></th>\n",
       "      <th></th>\n",
       "      <th></th>\n",
       "      <th></th>\n",
       "      <th></th>\n",
       "      <th></th>\n",
       "      <th></th>\n",
       "      <th></th>\n",
       "      <th></th>\n",
       "      <th></th>\n",
       "      <th></th>\n",
       "      <th></th>\n",
       "      <th></th>\n",
       "    </tr>\n",
       "  </thead>\n",
       "  <tbody>\n",
       "    <tr>\n",
       "      <th>0</th>\n",
       "      <td>1000014006</td>\n",
       "      <td>1000015308</td>\n",
       "      <td>1000015309</td>\n",
       "      <td>collectif_edition solesme</td>\n",
       "      <td>benediction eglise</td>\n",
       "      <td>aucunemarque</td>\n",
       "      <td>0</td>\n",
       "      <td>3.70</td>\n",
       "      <td>0</td>\n",
       "      <td>0</td>\n",
       "      <td></td>\n",
       "      <td>2</td>\n",
       "      <td>2</td>\n",
       "      <td>0</td>\n",
       "      <td>0</td>\n",
       "    </tr>\n",
       "    <tr>\n",
       "      <th>1</th>\n",
       "      <td>1000014006</td>\n",
       "      <td>1000015308</td>\n",
       "      <td>1000015309</td>\n",
       "      <td>collectif_edition solesme</td>\n",
       "      <td>notice st benoit lot</td>\n",
       "      <td>aucunemarque</td>\n",
       "      <td>0</td>\n",
       "      <td>0.95</td>\n",
       "      <td>0</td>\n",
       "      <td>0</td>\n",
       "      <td></td>\n",
       "      <td>4</td>\n",
       "      <td>2</td>\n",
       "      <td>0</td>\n",
       "      <td>0</td>\n",
       "    </tr>\n",
       "    <tr>\n",
       "      <th>2</th>\n",
       "      <td>1000014006</td>\n",
       "      <td>1000015308</td>\n",
       "      <td>1000015309</td>\n",
       "      <td>richard pe edition_tequi</td>\n",
       "      <td>signe temp fatima</td>\n",
       "      <td>aucunemarque</td>\n",
       "      <td>0</td>\n",
       "      <td>21.85</td>\n",
       "      <td>0</td>\n",
       "      <td>0</td>\n",
       "      <td></td>\n",
       "      <td>3</td>\n",
       "      <td>3</td>\n",
       "      <td>0</td>\n",
       "      <td>0</td>\n",
       "    </tr>\n",
       "    <tr>\n",
       "      <th>3</th>\n",
       "      <td>1000014006</td>\n",
       "      <td>1000015308</td>\n",
       "      <td>1000015309</td>\n",
       "      <td>mocquereau dom andr edition_solesme</td>\n",
       "      <td>nombre musical</td>\n",
       "      <td>aucunemarque</td>\n",
       "      <td>0</td>\n",
       "      <td>26.60</td>\n",
       "      <td>0</td>\n",
       "      <td>0</td>\n",
       "      <td></td>\n",
       "      <td>2</td>\n",
       "      <td>4</td>\n",
       "      <td>0</td>\n",
       "      <td>0</td>\n",
       "    </tr>\n",
       "    <tr>\n",
       "      <th>4</th>\n",
       "      <td>1000014006</td>\n",
       "      <td>1000015308</td>\n",
       "      <td>1000015309</td>\n",
       "      <td>collectif_edition ns video</td>\n",
       "      <td>creation homme</td>\n",
       "      <td>aucunemarque</td>\n",
       "      <td>0</td>\n",
       "      <td>7.12</td>\n",
       "      <td>0</td>\n",
       "      <td>0</td>\n",
       "      <td></td>\n",
       "      <td>2</td>\n",
       "      <td>3</td>\n",
       "      <td>0</td>\n",
       "      <td>0</td>\n",
       "    </tr>\n",
       "  </tbody>\n",
       "</table>\n",
       "</div>"
      ],
      "text/plain": [
       "                     Categorie1  Categorie2  Categorie3  \\\n",
       "Identifiant_Produit                                       \n",
       "0                    1000014006  1000015308  1000015309   \n",
       "1                    1000014006  1000015308  1000015309   \n",
       "2                    1000014006  1000015308  1000015309   \n",
       "3                    1000014006  1000015308  1000015309   \n",
       "4                    1000014006  1000015308  1000015309   \n",
       "\n",
       "                                             Description  \\\n",
       "Identifiant_Produit                                        \n",
       "0                              collectif_edition solesme   \n",
       "1                              collectif_edition solesme   \n",
       "2                               richard pe edition_tequi   \n",
       "3                    mocquereau dom andr edition_solesme   \n",
       "4                             collectif_edition ns video   \n",
       "\n",
       "                                  Libelle        Marque  Produit_Cdiscount  \\\n",
       "Identifiant_Produit                                                          \n",
       "0                      benediction eglise  aucunemarque                  0   \n",
       "1                    notice st benoit lot  aucunemarque                  0   \n",
       "2                       signe temp fatima  aucunemarque                  0   \n",
       "3                          nombre musical  aucunemarque                  0   \n",
       "4                          creation homme  aucunemarque                  0   \n",
       "\n",
       "                      prix  Marque_in_Description  Marque_in_Libelle  \\\n",
       "Identifiant_Produit                                                    \n",
       "0                     3.70                      0                  0   \n",
       "1                     0.95                      0                  0   \n",
       "2                    21.85                      0                  0   \n",
       "3                    26.60                      0                  0   \n",
       "4                     7.12                      0                  0   \n",
       "\n",
       "                    Intersection_Libe_Desc  Longueur_Libelle  \\\n",
       "Identifiant_Produit                                            \n",
       "0                                                          2   \n",
       "1                                                          4   \n",
       "2                                                          3   \n",
       "3                                                          2   \n",
       "4                                                          2   \n",
       "\n",
       "                     Longueur_Description  Longueur Intersection  \\\n",
       "Identifiant_Produit                                                \n",
       "0                                       2                      0   \n",
       "1                                       2                      0   \n",
       "2                                       3                      0   \n",
       "3                                       4                      0   \n",
       "4                                       3                      0   \n",
       "\n",
       "                     Percent_Libe_in_Desc  \n",
       "Identifiant_Produit                        \n",
       "0                                       0  \n",
       "1                                       0  \n",
       "2                                       0  \n",
       "3                                       0  \n",
       "4                                       0  "
      ]
     },
     "execution_count": 40,
     "metadata": {},
     "output_type": "execute_result"
    }
   ],
   "source": [
    "Ctrain.head(5)"
   ]
  },
  {
   "cell_type": "code",
   "execution_count": 41,
   "metadata": {
    "collapsed": true
   },
   "outputs": [],
   "source": [
    "Ctrain.to_csv(SAVE_TRAINING_PATH)\n",
    "Ctest.to_csv(SAVE_TEST_PATH)"
   ]
  }
 ],
 "metadata": {
  "kernelspec": {
   "display_name": "Python 2",
   "language": "python",
   "name": "python2"
  },
  "language_info": {
   "codemirror_mode": {
    "name": "ipython",
    "version": 2
   },
   "file_extension": ".py",
   "mimetype": "text/x-python",
   "name": "python",
   "nbconvert_exporter": "python",
   "pygments_lexer": "ipython2",
   "version": "2.7.6"
  }
 },
 "nbformat": 4,
 "nbformat_minor": 0
}
