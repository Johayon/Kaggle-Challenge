{
 "cells": [
  {
   "cell_type": "markdown",
   "metadata": {},
   "source": [
    "Cleaning des données Cdiscount :\n",
    "- module de netoyage utf8 vers ascii\n",
    "- module d'extraction et cleaning des nombres dans les descriptions\n",
    "- module de lematisation rudimentaire"
   ]
  },
  {
   "cell_type": "code",
   "execution_count": 1,
   "metadata": {
    "collapsed": true
   },
   "outputs": [],
   "source": [
    "import pandas as pd\n",
    "import numpy as np\n",
    "import matplotlib.pyplot as plt\n",
    "%matplotlib inline\n",
    "import unicodedata as uni\n",
    "import re\n",
    "def normalize(string):\n",
    "    return uni.normalize('NFKD',string).encode('ascii','ignore')\n",
    "from sys import stdout\n"
   ]
  },
  {
   "cell_type": "markdown",
   "metadata": {},
   "source": [
    "Configuration to set"
   ]
  },
  {
   "cell_type": "code",
   "execution_count": 2,
   "metadata": {
    "collapsed": true
   },
   "outputs": [],
   "source": [
    "TRAINING_SET_PATH = 'Data/training.csv'\n",
    "TEST_SET_PATH = 'Data/test.csv'\n",
    "SEPARATOR = ';'\n",
    "INDEX_COL = 'Identifiant_Produit'\n",
    "DESCRIPTION_COL = 'Description'\n",
    "LIBELLE_COL = 'Libelle'\n",
    "MARQUE_COL = 'Marque'\n",
    "MAX_PRICE = 1000\n",
    "PRICE_COL = 'prix'\n",
    "AUGMENTED_DESC_COL = 'Description+Libelle'\n",
    "SAVE_TRAINING_PATH = 'Data/cleantrainV2.csv'\n",
    "SAVE_TEST_PATH = 'Data/cleantestV2.csv'\n",
    "STOPLIST = set(('un une le les la au aux de des ce se ma mon ton ' +\n",
    "               'sa the of then it ou and tres sur on en in dans ' +\n",
    "               'pour for with avec et ne pas tout all without ' +\n",
    "               'sans du il votre son one je vous nos ses vos est ' +\n",
    "               'tu es cet cette tout toute comme comment sommes').split())"
   ]
  },
  {
   "cell_type": "markdown",
   "metadata": {},
   "source": [
    "Regex to detect pattern in the description:\n",
    "- page format\n",
    "- surface\n",
    "- volume \n",
    "- metric\n",
    "- rapport\n",
    "- modify livré en expedie pour ne pas confondre avec livre.\n",
    "- remove numbers"
   ]
  },
  {
   "cell_type": "code",
   "execution_count": 3,
   "metadata": {
    "collapsed": true
   },
   "outputs": [],
   "source": [
    "def clean_and_detect_number(line):\n",
    "    page_info = re.compile('[Aa]+[0-5]+')\n",
    "    surface_info = re.compile('[\\d,\\.]+\\s?x\\s?[\\d,\\.]+\\s?((cm|mm))')\n",
    "    volume_info = re.compile('l?\\s?[\\d,\\.]+\\s?x\\s?l?\\s?[\\d,\\.]+\\s?x\\s?h?\\s?[\\d,\\.]+\\s?')\n",
    "    quantity_info = re.compile('[\\d,\\.]+\\s?x\\s?[\\d,\\.]+\\s?((cl|dl|g))')\n",
    "    metric_info = re.compile('(\\d[\\d,\\.]{0,9})\\s?(l|m|w|g|c|v)\\s?([^[a-zA-Z]|$|\\s])')\n",
    "    power_rapport = re.compile('\\d[\\d,\\.]{0,9}\\s?([a-zA-Z]{1,4})\\s?/\\s?\\d[\\d,\\.]{0,9}\\s?([a-zA-Z]{1,4})')\n",
    "    percent_info = re.compile('\\d+\\s?%')\n",
    "    livre = re.compile('livré|livrés|livre unité|livre unite|livres unités|livres unités')\n",
    "    regex = re.compile('\\d')\n",
    "    res = regex.findall(line)\n",
    "    regexs = {'expedie': livre, 'quant':quantity_info,'volume':volume_info,'surface':surface_info,'page':page_info,'metric':metric_info,'percent':percent_info,'rapport':power_rapport}\n",
    "    if len(res)>0:\n",
    "        for reg in ['expedie','volume','surface','page','percent','quant','rapport','metric']:\n",
    "            res2 = regexs[reg].findall(line)\n",
    "            if len(res2) > 0:\n",
    "                if reg == 'metric':\n",
    "                    line = regexs[reg].sub(' ',line)\n",
    "                    for ine in res2:\n",
    "                        if ine[1] == 'g':\n",
    "                            line += ' gr'\n",
    "                        elif ine[1] == 'v':\n",
    "                            line += ' volt'\n",
    "                        elif ine[1] == 'm':\n",
    "                            line += ' metre'\n",
    "                        elif ine[1] == 'l':\n",
    "                            line += ' litre'\n",
    "                        elif ine[1] == 'w':\n",
    "                            line += ' watt'      \n",
    "                else:\n",
    "                    line = regexs[reg].sub(' '+reg+' ',line)\n",
    "        line = regex.sub(' ',line)\n",
    "    return line"
   ]
  },
  {
   "cell_type": "code",
   "execution_count": 4,
   "metadata": {
    "collapsed": true
   },
   "outputs": [],
   "source": [
    "regexmarque = re.compile('[^a-zA-Z0-9]')\n",
    "def detect_marque(line):\n",
    "    new_line = line\n",
    "    if line[MARQUE_COL] != 'AUCUNE' and line[MARQUE_COL] != ' ':\n",
    "        marque_tag = ''.join(regexmarque.sub(\" \",str(normalize(line[MARQUE_COL].decode(\"utf8\")))).lower().split() + ['mq'])\n",
    "        marque_tag = re.compile('\\d').sub('n',marque_tag)\n",
    "        insensitive_marque = re.compile(re.escape(line[MARQUE_COL]), re.IGNORECASE)\n",
    "        new_line[DESCRIPTION_COL] = insensitive_marque.sub(marque_tag,new_line[DESCRIPTION_COL])\n",
    "        new_line[LIBELLE_COL] = insensitive_marque.sub(marque_tag,new_line[LIBELLE_COL])\n",
    "        new_line[MARQUE_COL] = marque_tag\n",
    "    else:\n",
    "        new_line[MARQUE_COL] = 'aucunemarque'\n",
    "    return new_line   "
   ]
  },
  {
   "cell_type": "markdown",
   "metadata": {},
   "source": [
    "Loading Data through Pandas"
   ]
  },
  {
   "cell_type": "code",
   "execution_count": 5,
   "metadata": {
    "collapsed": false
   },
   "outputs": [
    {
     "name": "stdout",
     "output_type": "stream",
     "text": [
      "loading Data\n"
     ]
    },
    {
     "data": {
      "text/html": [
       "<div>\n",
       "<table border=\"1\" class=\"dataframe\">\n",
       "  <thead>\n",
       "    <tr style=\"text-align: right;\">\n",
       "      <th></th>\n",
       "      <th>Categorie1</th>\n",
       "      <th>Categorie2</th>\n",
       "      <th>Categorie3</th>\n",
       "      <th>Description</th>\n",
       "      <th>Libelle</th>\n",
       "      <th>Marque</th>\n",
       "      <th>Produit_Cdiscount</th>\n",
       "      <th>prix</th>\n",
       "    </tr>\n",
       "    <tr>\n",
       "      <th>Identifiant_Produit</th>\n",
       "      <th></th>\n",
       "      <th></th>\n",
       "      <th></th>\n",
       "      <th></th>\n",
       "      <th></th>\n",
       "      <th></th>\n",
       "      <th></th>\n",
       "      <th></th>\n",
       "    </tr>\n",
       "  </thead>\n",
       "  <tbody>\n",
       "    <tr>\n",
       "      <th>0</th>\n",
       "      <td>1000014006</td>\n",
       "      <td>1000015308</td>\n",
       "      <td>1000015309</td>\n",
       "      <td>De Collectif aux éditions SOLESMES</td>\n",
       "      <td>Benedictions de l eglise</td>\n",
       "      <td></td>\n",
       "      <td>0</td>\n",
       "      <td>3.70</td>\n",
       "    </tr>\n",
       "    <tr>\n",
       "      <th>1</th>\n",
       "      <td>1000014006</td>\n",
       "      <td>1000015308</td>\n",
       "      <td>1000015309</td>\n",
       "      <td>De Collectif aux éditions SOLESMES</td>\n",
       "      <td>Notice de st benoit lot de 10</td>\n",
       "      <td></td>\n",
       "      <td>0</td>\n",
       "      <td>0.95</td>\n",
       "    </tr>\n",
       "    <tr>\n",
       "      <th>2</th>\n",
       "      <td>1000014006</td>\n",
       "      <td>1000015308</td>\n",
       "      <td>1000015309</td>\n",
       "      <td>De Richard A M Pe aux éditions TEQUI</td>\n",
       "      <td>Signes pour notre temps fatima</td>\n",
       "      <td></td>\n",
       "      <td>0</td>\n",
       "      <td>21.85</td>\n",
       "    </tr>\n",
       "    <tr>\n",
       "      <th>3</th>\n",
       "      <td>1000014006</td>\n",
       "      <td>1000015308</td>\n",
       "      <td>1000015309</td>\n",
       "      <td>De Mocquereau (Dom Andr aux éditions SOLESMES</td>\n",
       "      <td>Nombre musical t.1</td>\n",
       "      <td></td>\n",
       "      <td>0</td>\n",
       "      <td>26.60</td>\n",
       "    </tr>\n",
       "    <tr>\n",
       "      <th>4</th>\n",
       "      <td>1000014006</td>\n",
       "      <td>1000015308</td>\n",
       "      <td>1000015309</td>\n",
       "      <td>De Collectif aux éditions NS VIDEO</td>\n",
       "      <td>Creation de l homme v522</td>\n",
       "      <td></td>\n",
       "      <td>0</td>\n",
       "      <td>7.12</td>\n",
       "    </tr>\n",
       "  </tbody>\n",
       "</table>\n",
       "</div>"
      ],
      "text/plain": [
       "                     Categorie1  Categorie2  Categorie3  \\\n",
       "Identifiant_Produit                                       \n",
       "0                    1000014006  1000015308  1000015309   \n",
       "1                    1000014006  1000015308  1000015309   \n",
       "2                    1000014006  1000015308  1000015309   \n",
       "3                    1000014006  1000015308  1000015309   \n",
       "4                    1000014006  1000015308  1000015309   \n",
       "\n",
       "                                                       Description  \\\n",
       "Identifiant_Produit                                                  \n",
       "0                               De Collectif aux éditions SOLESMES   \n",
       "1                               De Collectif aux éditions SOLESMES   \n",
       "2                             De Richard A M Pe aux éditions TEQUI   \n",
       "3                    De Mocquereau (Dom Andr aux éditions SOLESMES   \n",
       "4                               De Collectif aux éditions NS VIDEO   \n",
       "\n",
       "                                            Libelle Marque  Produit_Cdiscount  \\\n",
       "Identifiant_Produit                                                             \n",
       "0                          Benedictions de l eglise                         0   \n",
       "1                     Notice de st benoit lot de 10                         0   \n",
       "2                    Signes pour notre temps fatima                         0   \n",
       "3                                Nombre musical t.1                         0   \n",
       "4                          Creation de l homme v522                         0   \n",
       "\n",
       "                      prix  \n",
       "Identifiant_Produit         \n",
       "0                     3.70  \n",
       "1                     0.95  \n",
       "2                    21.85  \n",
       "3                    26.60  \n",
       "4                     7.12  "
      ]
     },
     "execution_count": 5,
     "metadata": {},
     "output_type": "execute_result"
    }
   ],
   "source": [
    "print \"loading Data\"\n",
    "Ctrain = pd.read_csv(TRAINING_SET_PATH, sep=SEPARATOR,index_col=INDEX_COL)\n",
    "Ctrain.fillna(' ',inplace=True)\n",
    "Ctest = pd.read_csv(TEST_SET_PATH, sep=SEPARATOR,index_col=INDEX_COL)\n",
    "Ctest.fillna(' ',inplace=True)\n",
    "Ctrain.head(5)"
   ]
  },
  {
   "cell_type": "markdown",
   "metadata": {},
   "source": [
    "Apply regex to remove numbers and special characters"
   ]
  },
  {
   "cell_type": "code",
   "execution_count": 6,
   "metadata": {
    "collapsed": false
   },
   "outputs": [],
   "source": [
    "cuts = np.r_[np.arange(0,15000001,1000000),[15786885]]"
   ]
  },
  {
   "cell_type": "code",
   "execution_count": null,
   "metadata": {
    "collapsed": false
   },
   "outputs": [
    {
     "name": "stdout",
     "output_type": "stream",
     "text": [
      "create Marque repository\n",
      "\r",
      "\u001b[K[--                              ] 6.25"
     ]
    }
   ],
   "source": [
    "print \"create Marque repository\"\n",
    "Ctest.ix[:,[DESCRIPTION_COL,LIBELLE_COL,MARQUE_COL]] = Ctest.ix[:,[DESCRIPTION_COL,LIBELLE_COL,MARQUE_COL]].apply(lambda x: detect_marque(x),axis=1)\n",
    "for i in range(cuts.shape[0]-1):\n",
    "    Ctrain.ix[cuts[i]:cuts[i+1]-1,[DESCRIPTION_COL,LIBELLE_COL,MARQUE_COL]] = Ctrain.ix[cuts[i]:cuts[i+1]-1,[DESCRIPTION_COL,LIBELLE_COL,MARQUE_COL]].apply(lambda x: detect_marque(x),axis=1)\n",
    "    stdout.write(\"\\r\\x1b[K\" + \"[\" + (i+1) * \"--\" + (16-(i+1))*\"  \" + \"] %.2f\" %((i+1)*6.25))\n",
    "    stdout.flush()\n",
    "print \" \"\n",
    "print \"Done\""
   ]
  },
  {
   "cell_type": "code",
   "execution_count": null,
   "metadata": {
    "collapsed": false,
    "scrolled": true
   },
   "outputs": [],
   "source": [
    "regex = re.compile('[^a-zA-Z]')\n",
    "regexmarque = re.compile('[^a-zA-Z]')\n",
    "\n",
    "print \"cleaning Libelle\"\n",
    "Ctest[LIBELLE_COL] = Ctest[LIBELLE_COL].astype(str)\n",
    "Ctest[LIBELLE_COL] = Ctest[LIBELLE_COL].apply(lambda x: clean_and_detect_number(x.decode('utf-8').lower()))\n",
    "Ctest[LIBELLE_COL] = Ctest[LIBELLE_COL].apply(lambda x: regex.sub(\" \",str(normalize(x))))\n",
    "\n",
    "Ctrain[LIBELLE_COL] = Ctrain[LIBELLE_COL].astype(str)\n",
    "for i in range(cuts.shape[0]-1):\n",
    "    Ctrain.ix[cuts[i]:cuts[i+1]-1,LIBELLE_COL] = Ctrain.ix[cuts[i]:cuts[i+1]-1,LIBELLE_COL].apply(lambda x: clean_and_detect_number(x.decode('utf-8').lower()))\n",
    "    Ctrain.ix[cuts[i]:cuts[i+1]-1,LIBELLE_COL] = Ctrain.ix[cuts[i]:cuts[i+1]-1,LIBELLE_COL].apply(lambda x: regex.sub(\" \",str(normalize(x))))\n",
    "    stdout.write(\"\\r\\x1b[K\" + \"[\" + (i+1) * \"--\" + (16-(i+1))*\"  \" + \"] %.2f\" %((i+1)*6.25))\n",
    "    stdout.flush()\n",
    "print \" \"\n",
    "print \"Done\"\n",
    "\n",
    "print \"cleaning Description\"\n",
    "Ctest[DESCRIPTION_COL] = Ctest[DESCRIPTION_COL].astype(str)\n",
    "Ctest[DESCRIPTION_COL] = Ctest[DESCRIPTION_COL].apply(lambda x: clean_and_detect_number(x.decode('utf-8').lower()))\n",
    "Ctest[DESCRIPTION_COL] = Ctest[DESCRIPTION_COL].apply(lambda x: regex.sub(\" \",str(normalize(x))))\n",
    "Ctrain[DESCRIPTION_COL] = Ctrain[DESCRIPTION_COL].astype(str)\n",
    "for i in range(cuts.shape[0]-1):\n",
    "    Ctrain.ix[cuts[i]:cuts[i+1]-1,DESCRIPTION_COL] = Ctrain.ix[cuts[i]:cuts[i+1]-1,DESCRIPTION_COL].apply(lambda x: clean_and_detect_number(x.decode('utf-8').lower()))\n",
    "    Ctrain.ix[cuts[i]:cuts[i+1]-1,DESCRIPTION_COL] = Ctrain.ix[cuts[i]:cuts[i+1]-1,DESCRIPTION_COL].apply(lambda x: regex.sub(\" \",str(normalize(x))))\n",
    "    stdout.write(\"\\r\\x1b[K\" + \"[\" + (i+1) * \"--\" + (16-(i+1))*\"  \" + \"] %.2f\" %((i+1)*6.25))\n",
    "    stdout.flush()\n",
    "print \" \"\n",
    "print \"Done\"\n",
    "\n",
    "#print \"cleaning Marque\"\n",
    "#Ctest[MARQUE_COL] = Ctest[MARQUE_COL].astype(str)\n",
    "#Ctest[MARQUE_COL] = Ctest[MARQUE_COL].apply(lambda x : ' ' if x == 'AUCUNE' else x) \n",
    "#Ctest[MARQUE_COL] = Ctest[MARQUE_COL].apply(lambda x : regexmarque.sub(\" \",str(normalize(x.decode(\"utf8\")))).lower())\n",
    "#Ctrain[MARQUE_COL] = Ctrain[MARQUE_COL].astype(str)\n",
    "#for i in range(cuts.shape[0]-1):\n",
    "#    Ctrain.ix[cuts[i]:cuts[i+1]-1,MARQUE_COL] = Ctrain.ix[cuts[i]:cuts[i+1]-1,MARQUE_COL].apply(lambda x : ' ' if x == 'AUCUNE' else x) \n",
    "#    Ctrain.ix[cuts[i]:cuts[i+1]-1,MARQUE_COL] = Ctrain.ix[cuts[i]:cuts[i+1]-1,MARQUE_COL].apply(lambda x : regexmarque.sub(\" \",str(normalize(x.decode(\"utf8\")))).lower())\n",
    "#    stdout.write(\"\\r\\x1b[K\" + \"[\" + (i+1) * \"--\" + (16-(i+1))*\"  \" + \"] %.2f\" %((i+1)*6.25))\n",
    "#    stdout.flush()\n",
    "#print \" \""
   ]
  },
  {
   "cell_type": "code",
   "execution_count": null,
   "metadata": {
    "collapsed": false
   },
   "outputs": [],
   "source": [
    "def clean_price(price,max_price):\n",
    "    clean_price = price\n",
    "    if price >= max_price and (price%100 ==0 or price*100%10000 == 9999):\n",
    "        clean_price /= 100\n",
    "    return clean_price\n",
    "\n",
    "print \"cleaning price\"\n",
    "Ctrain[PRICE_COL] = Ctrain[PRICE_COL].apply(lambda x: clean_price(x,MAX_PRICE))\n",
    "Ctest[PRICE_COL] = Ctest[PRICE_COL].apply(lambda x: clean_price(x,MAX_PRICE))"
   ]
  },
  {
   "cell_type": "markdown",
   "metadata": {},
   "source": [
    "Merge Description Libelle and Marque in one big augmented Description"
   ]
  },
  {
   "cell_type": "code",
   "execution_count": null,
   "metadata": {
    "collapsed": true
   },
   "outputs": [],
   "source": [
    "#Ctrain[AUGMENTED_DESC_COL] = Ctrain[[DESCRIPTION_COL,LIBELLE_COL,MARQUE_COL]].apply(lambda x : x[DESCRIPTION_COL]+\" \"+x[LIBELLE_COL]+\" \"+x[MARQUE_COL],axis=1)\n",
    "#Ctrain.drop([DESCRIPTION_COL,LIBELLE_COL],axis=1,inplace=True)\n",
    "#Ctest[AUGMENTED_DESC_COL] = Ctest[[DESCRIPTION_COL,LIBELLE_COL,MARQUE_COL]].apply(lambda x : x[DESCRIPTION_COL]+\" \"+x[LIBELLE_COL]+\" \"+x[MARQUE_COL],axis=1)\n",
    "#Ctest.drop([DESCRIPTION_COL,LIBELLE_COL],axis=1,inplace=True)\n",
    "#Ctrain.head(5)\n",
    "#Ctest.head(5)"
   ]
  },
  {
   "cell_type": "code",
   "execution_count": null,
   "metadata": {
    "collapsed": false
   },
   "outputs": [],
   "source": [
    "Ctrain.to_csv(SAVE_TRAINING_PATH)\n",
    "Ctest.to_csv(SAVE_TEST_PATH)"
   ]
  },
  {
   "cell_type": "markdown",
   "metadata": {},
   "source": [
    "Completed V1: estimated time of completion 1h00 for 4Go de data in local\n",
    "\n",
    "Objectif V2: see spark data to implement dataframe RDD."
   ]
  }
 ],
 "metadata": {
  "kernelspec": {
   "display_name": "Python 2",
   "language": "python",
   "name": "python2"
  },
  "language_info": {
   "codemirror_mode": {
    "name": "ipython",
    "version": 2
   },
   "file_extension": ".py",
   "mimetype": "text/x-python",
   "name": "python",
   "nbconvert_exporter": "python",
   "pygments_lexer": "ipython2",
   "version": "2.7.6"
  }
 },
 "nbformat": 4,
 "nbformat_minor": 0
}
